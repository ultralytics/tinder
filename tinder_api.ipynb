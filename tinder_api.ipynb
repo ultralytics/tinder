{
 "cells": [
  {
   "cell_type": "markdown",
   "metadata": {},
   "source": [
    "![image.png](attachment:image.png)"
   ]
  },
  {
   "cell_type": "code",
   "execution_count": null,
   "metadata": {},
   "outputs": [],
   "source": [
    "import fb_auth_token\n",
    "import tinder_api"
   ]
  },
  {
   "cell_type": "code",
   "execution_count": null,
   "metadata": {},
   "outputs": [],
   "source": []
  },
  {
   "cell_type": "code",
   "execution_count": null,
   "metadata": {},
   "outputs": [],
   "source": [
    "# Enter your facebook email\n",
    "fb_username = \"email@gmail.com\"\n",
    "# Enter your facebook password\n",
    "fb_password = \"password\"\n",
    "\n",
    "fb_access_token = fb_auth_token.get_fb_access_token(fb_username, fb_password)\n",
    "fb_user_id = fb_auth_token.get_fb_id(fb_access_token)\n",
    "\n",
    "host = \"https://api.gotinder.com\"  # thanks to this line you do not need to import config.py or tinder_config_ex.py"
   ]
  },
  {
   "cell_type": "code",
   "execution_count": null,
   "metadata": {},
   "outputs": [],
   "source": [
    "fb_access_token"
   ]
  },
  {
   "cell_type": "code",
   "execution_count": null,
   "metadata": {},
   "outputs": [],
   "source": [
    "fb_user_id"
   ]
  },
  {
   "cell_type": "code",
   "execution_count": null,
   "metadata": {},
   "outputs": [],
   "source": [
    "# tinder_auth_token = tinder_api.get_auth_token(config.fb_auth_token, config.fb_user_id)\n",
    "tinder_api.get_auth_token(fb_access_token, fb_user_id)"
   ]
  },
  {
   "cell_type": "code",
   "execution_count": null,
   "metadata": {},
   "outputs": [],
   "source": [
    "# To check you are authorized\n",
    "# tinder_api.authverif()"
   ]
  },
  {
   "cell_type": "code",
   "execution_count": null,
   "metadata": {},
   "outputs": [],
   "source": [
    "# Get Tinder Recommendations of people around you\n",
    "recommendations = tinder_api.get_recommendations()\n",
    "# print(recommendations['status']) # 200 = success\n",
    "# len(recommendations['results']) # len of batches are 12\n",
    "recommendations"
   ]
  },
  {
   "cell_type": "code",
   "execution_count": null,
   "metadata": {},
   "outputs": [],
   "source": [
    "# Get updates since certain date\n",
    "tinder_api.get_updates(\"2017-11-18T10:28:13.392Z\")"
   ]
  },
  {
   "cell_type": "code",
   "execution_count": null,
   "metadata": {},
   "outputs": [],
   "source": [
    "# select one recommended individual\n",
    "testid = recommendations[\"results\"][0][\"_id\"]\n",
    "print(testid)"
   ]
  },
  {
   "cell_type": "code",
   "execution_count": null,
   "metadata": {},
   "outputs": [],
   "source": [
    "# Retrieve profile from id\n",
    "testperson = tinder_api.get_person(testid)\n",
    "testperson"
   ]
  },
  {
   "cell_type": "code",
   "execution_count": null,
   "metadata": {},
   "outputs": [],
   "source": [
    "# Can also play a bit with your own profile\n",
    "myself = tinder_api.get_self()\n",
    "for p in myself[\"photos\"]:\n",
    "    print(p[\"url\"])"
   ]
  },
  {
   "cell_type": "code",
   "execution_count": null,
   "metadata": {},
   "outputs": [],
   "source": [
    "myself"
   ]
  },
  {
   "cell_type": "code",
   "execution_count": null,
   "metadata": {},
   "outputs": [],
   "source": [
    "# and maybe experiment a bit with your own gender ;)\n",
    "tinder_api.change_preferences(gender_filter=\"1\")"
   ]
  },
  {
   "cell_type": "code",
   "execution_count": null,
   "metadata": {},
   "outputs": [],
   "source": [
    "# Like a user\n",
    "tinder_api.like(\"5a10ae3c8802dc4401463712\")"
   ]
  },
  {
   "cell_type": "code",
   "execution_count": null,
   "metadata": {},
   "outputs": [],
   "source": [
    "# message a match\n",
    "tinder_api.send_msg(\"59ff7c30117d37c0572338d55a10ae3c8802dc4401463712\", \"Hi, boy! Gloria Tinder-Robot here\")"
   ]
  },
  {
   "cell_type": "markdown",
   "metadata": {},
   "source": [
    "![image.png](attachment:image.png)"
   ]
  }
 ],
 "metadata": {
  "kernelspec": {
   "display_name": "Python 3",
   "language": "python",
   "name": "python3"
  },
  "language_info": {
   "codemirror_mode": {
    "name": "ipython",
    "version": 3
   },
   "file_extension": ".py",
   "mimetype": "text/x-python",
   "name": "python",
   "nbconvert_exporter": "python",
   "pygments_lexer": "ipython3",
   "version": "3.5.2"
  }
 },
 "nbformat": 4,
 "nbformat_minor": 2
}
